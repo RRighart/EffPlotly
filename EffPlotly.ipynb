{
 "cells": [
  {
   "cell_type": "markdown",
   "metadata": {},
   "source": [
    "# **Plotly for effective data visualization**"
   ]
  },
  {
   "cell_type": "markdown",
   "metadata": {},
   "source": [
    "Plotly is well-known for its aesthetically appeasing visualizations. It allows for user interaction.\n",
    "\n",
    "This Plotly guide is unlike other guides.\n",
    "Excellent introductory guides are already available, particulary at the Plotly site itself.\n",
    "So we are not reinventing the wheel here.\n",
    "\n",
    "This guide focuses on a couple of key aspects, not much mentioned in data visualizations: \n",
    "1). Writing more concise and readable code\n",
    "2). Automation easily taking into account new data. \n",
    "\n",
    "The current blog sheds some light on how to do this in Plotly, giving first examples where the code needs to be tuned manually, and second giving a better example where it is more concise and automated. For this purpose we use a simple example of weather data in Switzerland.\n",
    "\n",
    "The code can be run with Python 2 or 3."
   ]
  },
  {
   "cell_type": "code",
   "execution_count": 1,
   "metadata": {
    "collapsed": true
   },
   "outputs": [],
   "source": [
    "import numpy as np\n",
    "import pandas as pd\n",
    "import matplotlib as mpl\n",
    "import matplotlib.pyplot as plt\n",
    "import matplotlib.patches as mpatches\n",
    "from matplotlib import cm\n",
    "import plotly\n",
    "import plotly.plotly as py\n",
    "import plotly.graph_objs as go\n",
    "from plotly import tools\n",
    "plotly.tools.set_credentials_file(username='rrighart', api_key='9999999')"
   ]
  },
  {
   "cell_type": "markdown",
   "metadata": {},
   "source": [
    "We read in the following data that we created with the help of Wikipedia:"
   ]
  },
  {
   "cell_type": "code",
   "execution_count": 2,
   "metadata": {
    "collapsed": true
   },
   "outputs": [],
   "source": [
    "data = {'Month': ['January', 'February', 'March', 'April', 'May', 'June', 'July', 'August', 'September', 'October', 'November', 'December'],\n",
    "        'Geneva': [1.5, 2.5, 6.5, 9.7, 14.2, 17.7, 20.2, 19.5, 15.4, 11.1, 5.5, 2.6],\n",
    "        'Zurich': [-1, 0.4, 3.9, 7.8, 12.2, 15.5, 17.6, 16.8, 13.8, 8.9, 3.5, 0.2],\n",
    "        'Lugano': [3.3, 4.5, 8.3, 11.4, 15.7, 19.6, 22.1, 21.5, 17.5, 13.0, 7.9, 4.3]\n",
    "       }\n",
    "df1 = pd.DataFrame(data, columns = ['Month', 'Geneva', 'Zurich', 'Lugano'])"
   ]
  },
  {
   "cell_type": "code",
   "execution_count": 3,
   "metadata": {},
   "outputs": [
    {
     "data": {
      "text/html": [
       "<div>\n",
       "<style scoped>\n",
       "    .dataframe tbody tr th:only-of-type {\n",
       "        vertical-align: middle;\n",
       "    }\n",
       "\n",
       "    .dataframe tbody tr th {\n",
       "        vertical-align: top;\n",
       "    }\n",
       "\n",
       "    .dataframe thead th {\n",
       "        text-align: right;\n",
       "    }\n",
       "</style>\n",
       "<table border=\"1\" class=\"dataframe\">\n",
       "  <thead>\n",
       "    <tr style=\"text-align: right;\">\n",
       "      <th></th>\n",
       "      <th>Month</th>\n",
       "      <th>Geneva</th>\n",
       "      <th>Zurich</th>\n",
       "      <th>Lugano</th>\n",
       "    </tr>\n",
       "  </thead>\n",
       "  <tbody>\n",
       "    <tr>\n",
       "      <th>0</th>\n",
       "      <td>January</td>\n",
       "      <td>1.5</td>\n",
       "      <td>-1.0</td>\n",
       "      <td>3.3</td>\n",
       "    </tr>\n",
       "    <tr>\n",
       "      <th>1</th>\n",
       "      <td>February</td>\n",
       "      <td>2.5</td>\n",
       "      <td>0.4</td>\n",
       "      <td>4.5</td>\n",
       "    </tr>\n",
       "    <tr>\n",
       "      <th>2</th>\n",
       "      <td>March</td>\n",
       "      <td>6.5</td>\n",
       "      <td>3.9</td>\n",
       "      <td>8.3</td>\n",
       "    </tr>\n",
       "    <tr>\n",
       "      <th>3</th>\n",
       "      <td>April</td>\n",
       "      <td>9.7</td>\n",
       "      <td>7.8</td>\n",
       "      <td>11.4</td>\n",
       "    </tr>\n",
       "    <tr>\n",
       "      <th>4</th>\n",
       "      <td>May</td>\n",
       "      <td>14.2</td>\n",
       "      <td>12.2</td>\n",
       "      <td>15.7</td>\n",
       "    </tr>\n",
       "    <tr>\n",
       "      <th>5</th>\n",
       "      <td>June</td>\n",
       "      <td>17.7</td>\n",
       "      <td>15.5</td>\n",
       "      <td>19.6</td>\n",
       "    </tr>\n",
       "    <tr>\n",
       "      <th>6</th>\n",
       "      <td>July</td>\n",
       "      <td>20.2</td>\n",
       "      <td>17.6</td>\n",
       "      <td>22.1</td>\n",
       "    </tr>\n",
       "    <tr>\n",
       "      <th>7</th>\n",
       "      <td>August</td>\n",
       "      <td>19.5</td>\n",
       "      <td>16.8</td>\n",
       "      <td>21.5</td>\n",
       "    </tr>\n",
       "    <tr>\n",
       "      <th>8</th>\n",
       "      <td>September</td>\n",
       "      <td>15.4</td>\n",
       "      <td>13.8</td>\n",
       "      <td>17.5</td>\n",
       "    </tr>\n",
       "    <tr>\n",
       "      <th>9</th>\n",
       "      <td>October</td>\n",
       "      <td>11.1</td>\n",
       "      <td>8.9</td>\n",
       "      <td>13.0</td>\n",
       "    </tr>\n",
       "    <tr>\n",
       "      <th>10</th>\n",
       "      <td>November</td>\n",
       "      <td>5.5</td>\n",
       "      <td>3.5</td>\n",
       "      <td>7.9</td>\n",
       "    </tr>\n",
       "    <tr>\n",
       "      <th>11</th>\n",
       "      <td>December</td>\n",
       "      <td>2.6</td>\n",
       "      <td>0.2</td>\n",
       "      <td>4.3</td>\n",
       "    </tr>\n",
       "  </tbody>\n",
       "</table>\n",
       "</div>"
      ],
      "text/plain": [
       "        Month  Geneva  Zurich  Lugano\n",
       "0     January     1.5    -1.0     3.3\n",
       "1    February     2.5     0.4     4.5\n",
       "2       March     6.5     3.9     8.3\n",
       "3       April     9.7     7.8    11.4\n",
       "4         May    14.2    12.2    15.7\n",
       "5        June    17.7    15.5    19.6\n",
       "6        July    20.2    17.6    22.1\n",
       "7      August    19.5    16.8    21.5\n",
       "8   September    15.4    13.8    17.5\n",
       "9     October    11.1     8.9    13.0\n",
       "10   November     5.5     3.5     7.9\n",
       "11   December     2.6     0.2     4.3"
      ]
     },
     "execution_count": 3,
     "metadata": {},
     "output_type": "execute_result"
    }
   ],
   "source": [
    "df1"
   ]
  },
  {
   "cell_type": "markdown",
   "metadata": {},
   "source": [
    "Before we start with Plotly, let's see how this looks like in Matplotlib, using a lineplot that displays the monthly temperature, split for the three Swiss cities:"
   ]
  },
  {
   "cell_type": "code",
   "execution_count": 4,
   "metadata": {},
   "outputs": [
    {
     "data": {
      "text/plain": [
       "12"
      ]
     },
     "execution_count": 4,
     "metadata": {},
     "output_type": "execute_result"
    }
   ],
   "source": [
    "len(df1)"
   ]
  },
  {
   "cell_type": "code",
   "execution_count": 6,
   "metadata": {
    "collapsed": true
   },
   "outputs": [],
   "source": [
    "fig = plt.figure(figsize = (10, 12))\n",
    "ax1 = fig.add_subplot(111)\n",
    "l1 = plt.plot(df1.Geneva, marker='o', color='blue')\n",
    "l2 = plt.plot(df1.Zurich, marker='o', color='red')\n",
    "l3 = plt.plot(df1.Lugano, marker='o', color='green')\n",
    "plt.xlabel('Time-course (months)', fontsize=14)\n",
    "plt.ylabel('Temperature (in Celsius)', fontsize=14)\n",
    "plt.xticks(fontsize=14)\n",
    "plt.yticks(fontsize=14)\n",
    "plt.setp(ax1.get_xticklabels(), visible=True)\n",
    "plt.xticks(range(len(df1)), df1.Month, size='small')\n",
    "\n",
    "plt.legend(['Geneva', 'Zurich', 'Lugano'], bbox_to_anchor=(0., 1.02, 1., .102), loc=3, mode=\"expand\", borderaxespad=0)\n",
    "plt.show()\n",
    "#plt.savefig('matplotlibfigure.png')"
   ]
  },
  {
   "cell_type": "markdown",
   "metadata": {},
   "source": [
    "Looks nice! For reasons of clarity, the code was written out extensively. Let us now visualize this in Plotly, first writing out all the code:"
   ]
  },
  {
   "cell_type": "code",
   "execution_count": 7,
   "metadata": {},
   "outputs": [
    {
     "data": {
      "text/html": [
       "<iframe id=\"igraph\" scrolling=\"no\" style=\"border:none;\" seamless=\"seamless\" src=\"https://plot.ly/~rrighart/165.embed\" height=\"525px\" width=\"100%\"></iframe>"
      ],
      "text/plain": [
       "<plotly.tools.PlotlyDisplay object>"
      ]
     },
     "execution_count": 7,
     "metadata": {},
     "output_type": "execute_result"
    }
   ],
   "source": [
    "trace0 =  go.Scatter(\n",
    "          x=df1['Month'],\n",
    "          y=df1['Geneva'],\n",
    "          name='Geneva'\n",
    ")\n",
    "\n",
    "trace1 =  go.Scatter(\n",
    "          x=df1['Month'],\n",
    "          y=df1['Zurich'],\n",
    "          name='Zurich'\n",
    ")\n",
    "\n",
    "trace2 =  go.Scatter(\n",
    "          x=df1['Month'],\n",
    "          y=df1['Lugano'],\n",
    "          name='Lugano'\n",
    ")\n",
    "\n",
    "data = [trace0, trace1, trace2]\n",
    "\n",
    "layout = {\n",
    "    'title' : 'Mean temperature, split for cities',\n",
    "    'xaxis' : {'title' : 'time-course (months)'},\n",
    "    'yaxis' : {'title' : 'temperature (Celsius)'},\n",
    "    'showlegend': True}\n",
    "\n",
    "fig = go.Figure(data=data, layout=layout)\n",
    "\n",
    "py.iplot(fig, filename='Temperature1', sharing='public')"
   ]
  },
  {
   "cell_type": "markdown",
   "metadata": {},
   "source": [
    "Now let's add some colored rectangular shapes to highlight the different months:"
   ]
  },
  {
   "cell_type": "code",
   "execution_count": 7,
   "metadata": {},
   "outputs": [
    {
     "data": {
      "text/html": [
       "<iframe id=\"igraph\" scrolling=\"no\" style=\"border:none;\" seamless=\"seamless\" src=\"https://plot.ly/~rrighart/149.embed\" height=\"525px\" width=\"100%\"></iframe>"
      ],
      "text/plain": [
       "<plotly.tools.PlotlyDisplay object>"
      ]
     },
     "execution_count": 7,
     "metadata": {},
     "output_type": "execute_result"
    }
   ],
   "source": [
    "trace0 =  go.Scatter(\n",
    "          x=df1['Month'],\n",
    "          y=df1['Geneva'],\n",
    "          name='Geneva'\n",
    ")\n",
    "\n",
    "trace1 =  go.Scatter(\n",
    "          x=df1['Month'],\n",
    "          y=df1['Zurich'],\n",
    "          name='Zurich'\n",
    ")\n",
    "\n",
    "trace2 =  go.Scatter(\n",
    "          x=df1['Month'],\n",
    "          y=df1['Lugano'],\n",
    "          name='Lugano'\n",
    ")\n",
    "\n",
    "data = [trace0, trace1, trace2]\n",
    "\n",
    "layout = {\n",
    "    'title' : 'Mean temperature, split for cities',\n",
    "    'xaxis' : {'title' : 'time-course (months)'},\n",
    "    'yaxis' : {'title' : 'temperature (Celsius)'},\n",
    "    'showlegend': True,\n",
    "    'shapes': [{\n",
    "        'type': 'rect', 'xref': 'x', 'yref': 'paper', 'x0' : 'February', 'y0' : 0, 'x1' : 'March', 'y1' : 1, 'fillcolor': '#d3d3d3', 'opacity': 0.2, 'line': {'width': 0,}\n",
    "   },\n",
    "        {\n",
    "        'type': 'rect', 'xref': 'x', 'yref': 'paper', 'x0' : 'April', 'y0' : 0, 'x1' : 'May', 'y1' : 1, 'fillcolor': '#d3d3d3', 'opacity': 0.2, 'line': {'width': 0,}\n",
    "   },\n",
    "        {\n",
    "        'type': 'rect', 'xref': 'x', 'yref': 'paper', 'x0' : 'June', 'y0' : 0, 'x1' : 'July', 'y1' : 1, 'fillcolor': '#d3d3d3', 'opacity': 0.2, 'line': {'width': 0,}\n",
    "   },\n",
    "        {\n",
    "        'type': 'rect', 'xref': 'x', 'yref': 'paper', 'x0' : 'August', 'y0' : 0, 'x1' : 'September', 'y1' : 1, 'fillcolor': '#d3d3d3', 'opacity': 0.2, 'line': {'width': 0,}\n",
    "   },\n",
    "{\n",
    "        'type': 'rect', 'xref': 'x', 'yref': 'paper', 'x0' : 'October', 'y0' : 0, 'x1' : 'November', 'y1' : 1, 'fillcolor': '#d3d3d3', 'opacity': 0.2, 'line': {'width': 0,}\n",
    "   }\n",
    "    ]\n",
    "}\n",
    "\n",
    "fig = go.Figure(data=data, layout=layout)\n",
    "\n",
    "py.iplot(fig, filename='Temperature2', sharing='public')"
   ]
  },
  {
   "cell_type": "markdown",
   "metadata": {
    "collapsed": true
   },
   "source": [
    "As we can see, this works well, and produces beautiful figures.\n",
    "To explain a bit about the code: the *trace* lines take care that the lines for each category are displayed. In layout, the *shapes* are responsible for the rectangle shades for every other month.\n",
    "The rest speaks for itself.\n",
    "\n",
    "But the code is quite long, at some points repetitive. Admittedly, if the dataset expands, probably quite some changes in the code are needed."
   ]
  },
  {
   "cell_type": "markdown",
   "metadata": {},
   "source": [
    "In order to make it more concise, we could start\n",
    "* create the *shapes* input in advance, looping through so-called dictionaries,\n",
    "* putting the *traces* in a loop, that reads in the countrynames. "
   ]
  },
  {
   "cell_type": "markdown",
   "metadata": {},
   "source": [
    "Let us first make a side step: What are *dictionaries*? A dictionary maps values to keys and stores them in a variable.\n",
    "For example, if you'd like to store in a variable called **shapes** that the *type* is 'rect' (meaning rectangular), and the value for *x0* is 'February', you could do something like the following:"
   ]
  },
  {
   "cell_type": "code",
   "execution_count": 8,
   "metadata": {
    "collapsed": true
   },
   "outputs": [],
   "source": [
    "shapes = dict(type='rect', x0='February')"
   ]
  },
  {
   "cell_type": "code",
   "execution_count": 9,
   "metadata": {},
   "outputs": [
    {
     "data": {
      "text/plain": [
       "dict"
      ]
     },
     "execution_count": 9,
     "metadata": {},
     "output_type": "execute_result"
    }
   ],
   "source": [
    "type(shapes)"
   ]
  },
  {
   "cell_type": "markdown",
   "metadata": {},
   "source": [
    "Another way to do this is the following notation:"
   ]
  },
  {
   "cell_type": "code",
   "execution_count": 10,
   "metadata": {
    "collapsed": true
   },
   "outputs": [],
   "source": [
    "shapes2 = {'type': 'rect', 'x0': 'February'}"
   ]
  },
  {
   "cell_type": "code",
   "execution_count": 11,
   "metadata": {},
   "outputs": [
    {
     "data": {
      "text/plain": [
       "dict"
      ]
     },
     "execution_count": 11,
     "metadata": {},
     "output_type": "execute_result"
    }
   ],
   "source": [
    "type(shapes2)"
   ]
  },
  {
   "cell_type": "markdown",
   "metadata": {},
   "source": [
    "These kind of data structures -- dictionaries -- are commonly used in Plotly. My impression is that the two types of notations are used interchangingly. However, for sake of consistency, I will only use the second type."
   ]
  },
  {
   "cell_type": "markdown",
   "metadata": {},
   "source": [
    "The following will create a shapes dictionary **shps** that we will use in the Plotly code. It basically indicates where the different shade rectangles should be situated."
   ]
  },
  {
   "cell_type": "code",
   "execution_count": 12,
   "metadata": {
    "collapsed": true
   },
   "outputs": [],
   "source": [
    "shps = []\n",
    "\n",
    "for i in np.arange(1,len(df1['Month'])-1, 2):\n",
    "    shps.append({'type':'rect', 'xref':'x', 'yref':'paper', 'x0':df1['Month'][i], 'y0':0, 'x1':df1['Month'][i+1], 'y1':1, 'fillcolor': '#d3d3d3', 'opacity':0.2, 'line':{'width':0}}.copy()) "
   ]
  },
  {
   "cell_type": "markdown",
   "metadata": {},
   "source": [
    "Let us zoom into one element of the rectangles, there where the first one is positioned:"
   ]
  },
  {
   "cell_type": "code",
   "execution_count": 13,
   "metadata": {},
   "outputs": [
    {
     "data": {
      "text/plain": [
       "{'fillcolor': '#d3d3d3',\n",
       " 'line': {'width': 0},\n",
       " 'opacity': 0.2,\n",
       " 'type': 'rect',\n",
       " 'x0': 'February',\n",
       " 'x1': 'March',\n",
       " 'xref': 'x',\n",
       " 'y0': 0,\n",
       " 'y1': 1,\n",
       " 'yref': 'paper'}"
      ]
     },
     "execution_count": 13,
     "metadata": {},
     "output_type": "execute_result"
    }
   ],
   "source": [
    "shps[0]"
   ]
  },
  {
   "cell_type": "markdown",
   "metadata": {},
   "source": [
    "This is the dictionary data type in Python:"
   ]
  },
  {
   "cell_type": "code",
   "execution_count": 14,
   "metadata": {},
   "outputs": [
    {
     "data": {
      "text/plain": [
       "dict"
      ]
     },
     "execution_count": 14,
     "metadata": {},
     "output_type": "execute_result"
    }
   ],
   "source": [
    "type(shps[1])"
   ]
  },
  {
   "cell_type": "markdown",
   "metadata": {},
   "source": [
    "In the next code, we will loop though the different traces to display the temperatures in each of the Swiss cities as well as simply put in the **shsp** data:"
   ]
  },
  {
   "cell_type": "code",
   "execution_count": 15,
   "metadata": {},
   "outputs": [
    {
     "data": {
      "text/html": [
       "<iframe id=\"igraph\" scrolling=\"no\" style=\"border:none;\" seamless=\"seamless\" src=\"https://plot.ly/~rrighart/151.embed\" height=\"525px\" width=\"100%\"></iframe>"
      ],
      "text/plain": [
       "<plotly.tools.PlotlyDisplay object>"
      ]
     },
     "execution_count": 15,
     "metadata": {},
     "output_type": "execute_result"
    }
   ],
   "source": [
    "data = []\n",
    "tracex = []\n",
    "citynames = ['Geneva', 'Zurich', 'Lugano']\n",
    "\n",
    "\n",
    "for i in range(0, len(citynames)):\n",
    "    tracex =  go.Scatter(\n",
    "          x=df1['Month'],\n",
    "          y=df1[citynames[i]],\n",
    "          name=citynames[i])\n",
    "    data.append(tracex)\n",
    "\n",
    "        \n",
    "layout = {\n",
    "    'title' : 'Mean temperature, split for cities',\n",
    "    'xaxis' : {'title' : 'time-course (months)'},\n",
    "    'yaxis' : {'title' : 'temperature (Celsius)'},\n",
    "    'showlegend': True,\n",
    "    'shapes': shps\n",
    "}\n",
    "\n",
    "fig = go.Figure(data=data, layout=layout)\n",
    "\n",
    "py.iplot(fig, filename='Temperature2', sharing='public')"
   ]
  },
  {
   "cell_type": "markdown",
   "metadata": {},
   "source": [
    "The code is much shorter now. The loop does not finish as long as there are citynames. \n",
    "\n",
    "How to add text annotations? For example, it may be useful to display for every month the season.\n",
    "In Switzerland, spring runs from March 20-June 20, summer from June 21-September 22, autumn from September 23-December 20, and winter from December 21-March 21. In the following code we make a simple annotation for the seasons:"
   ]
  },
  {
   "cell_type": "code",
   "execution_count": 16,
   "metadata": {
    "collapsed": true
   },
   "outputs": [],
   "source": [
    "season = ['wi', 'wi', 'wi / sp', 'sp', 'sp', 'sp / su', 'su', 'su', 'su / au', 'au', 'au', 'au / wi']\n",
    "\n",
    "anns = []\n",
    "\n",
    "for i in np.arange(0,len(season), 1):\n",
    "    anns.append({'showarrow': False, 'text':season[i], 'textangle':-90, 'x':df1['Month'][i], 'y':25}.copy())"
   ]
  },
  {
   "cell_type": "markdown",
   "metadata": {},
   "source": [
    "Some of the parameters explained: an arrow at the labels is not displayed, the text is shown at an angle of 90 degrees, and the text starts at the Y-value of 25:"
   ]
  },
  {
   "cell_type": "code",
   "execution_count": 17,
   "metadata": {},
   "outputs": [
    {
     "data": {
      "text/plain": [
       "[{'showarrow': False, 'text': 'wi', 'textangle': -90, 'x': 'January', 'y': 25},\n",
       " {'showarrow': False,\n",
       "  'text': 'wi',\n",
       "  'textangle': -90,\n",
       "  'x': 'February',\n",
       "  'y': 25}]"
      ]
     },
     "execution_count": 17,
     "metadata": {},
     "output_type": "execute_result"
    }
   ],
   "source": [
    "anns[0:2]"
   ]
  },
  {
   "cell_type": "markdown",
   "metadata": {},
   "source": [
    "In the original code we add now the annotations, and result is the following:"
   ]
  },
  {
   "cell_type": "code",
   "execution_count": 18,
   "metadata": {},
   "outputs": [
    {
     "data": {
      "text/html": [
       "<iframe id=\"igraph\" scrolling=\"no\" style=\"border:none;\" seamless=\"seamless\" src=\"https://plot.ly/~rrighart/155.embed\" height=\"525px\" width=\"100%\"></iframe>"
      ],
      "text/plain": [
       "<plotly.tools.PlotlyDisplay object>"
      ]
     },
     "execution_count": 18,
     "metadata": {},
     "output_type": "execute_result"
    }
   ],
   "source": [
    "data = []\n",
    "tracex = []\n",
    "citynames = ['Geneva', 'Zurich', 'Lugano']\n",
    "\n",
    "\n",
    "for i in range(0, len(citynames)):\n",
    "    tracex =  go.Scatter(\n",
    "          x=df1['Month'],\n",
    "          y=df1[citynames[i]],\n",
    "          name=citynames[i])\n",
    "    data.append(tracex)\n",
    "\n",
    "        \n",
    "layout = {\n",
    "    'title' : 'Mean temperature, split for cities',\n",
    "    'xaxis' : {'title' : 'time-course (months)'},\n",
    "    'yaxis' : {'title' : 'temperature (Celsius)'},\n",
    "    'showlegend': True,\n",
    "    'shapes': shps,\n",
    "    'annotations': anns\n",
    "}\n",
    "\n",
    "fig = go.Figure(data=data, layout=layout)\n",
    "\n",
    "py.iplot(fig, filename='Temperature3', sharing='public')"
   ]
  },
  {
   "cell_type": "markdown",
   "metadata": {},
   "source": [
    "Let's see how we could add other data to the existing plot.\n",
    "For example, to better estimate what is the best Swiss city to stay (regarding weather conditions), in addition to temperatures we would like to know rainfall:"
   ]
  },
  {
   "cell_type": "code",
   "execution_count": 19,
   "metadata": {
    "collapsed": true
   },
   "outputs": [],
   "source": [
    "data = {'Month': ['January', 'February', 'March', 'April', 'May', 'June', 'July', 'August', 'September', 'October', 'November', 'December'],\n",
    "        'Geneva': [76, 68, 70, 72, 84, 92, 79, 82, 100, 105, 88, 90],\n",
    "        'Zurich': [67, 68, 68, 78, 96, 115, 106, 121, 83, 70, 84, 74],\n",
    "        'Lugano': [66, 52, 80, 156, 196, 164, 153, 158, 185, 142, 127, 80]\n",
    "       }\n",
    "df2 = pd.DataFrame(data, columns = ['Month', 'Geneva', 'Zurich', 'Lugano'])"
   ]
  },
  {
   "cell_type": "markdown",
   "metadata": {},
   "source": [
    "\n",
    "\n",
    "\n"
   ]
  },
  {
   "cell_type": "markdown",
   "metadata": {},
   "source": [
    "The DataFrame looks as follows:"
   ]
  },
  {
   "cell_type": "code",
   "execution_count": 20,
   "metadata": {},
   "outputs": [
    {
     "data": {
      "text/html": [
       "<div>\n",
       "<style scoped>\n",
       "    .dataframe tbody tr th:only-of-type {\n",
       "        vertical-align: middle;\n",
       "    }\n",
       "\n",
       "    .dataframe tbody tr th {\n",
       "        vertical-align: top;\n",
       "    }\n",
       "\n",
       "    .dataframe thead th {\n",
       "        text-align: right;\n",
       "    }\n",
       "</style>\n",
       "<table border=\"1\" class=\"dataframe\">\n",
       "  <thead>\n",
       "    <tr style=\"text-align: right;\">\n",
       "      <th></th>\n",
       "      <th>Month</th>\n",
       "      <th>Geneva</th>\n",
       "      <th>Zurich</th>\n",
       "      <th>Lugano</th>\n",
       "    </tr>\n",
       "  </thead>\n",
       "  <tbody>\n",
       "    <tr>\n",
       "      <th>0</th>\n",
       "      <td>January</td>\n",
       "      <td>76</td>\n",
       "      <td>67</td>\n",
       "      <td>66</td>\n",
       "    </tr>\n",
       "    <tr>\n",
       "      <th>1</th>\n",
       "      <td>February</td>\n",
       "      <td>68</td>\n",
       "      <td>68</td>\n",
       "      <td>52</td>\n",
       "    </tr>\n",
       "    <tr>\n",
       "      <th>2</th>\n",
       "      <td>March</td>\n",
       "      <td>70</td>\n",
       "      <td>68</td>\n",
       "      <td>80</td>\n",
       "    </tr>\n",
       "    <tr>\n",
       "      <th>3</th>\n",
       "      <td>April</td>\n",
       "      <td>72</td>\n",
       "      <td>78</td>\n",
       "      <td>156</td>\n",
       "    </tr>\n",
       "    <tr>\n",
       "      <th>4</th>\n",
       "      <td>May</td>\n",
       "      <td>84</td>\n",
       "      <td>96</td>\n",
       "      <td>196</td>\n",
       "    </tr>\n",
       "    <tr>\n",
       "      <th>5</th>\n",
       "      <td>June</td>\n",
       "      <td>92</td>\n",
       "      <td>115</td>\n",
       "      <td>164</td>\n",
       "    </tr>\n",
       "    <tr>\n",
       "      <th>6</th>\n",
       "      <td>July</td>\n",
       "      <td>79</td>\n",
       "      <td>106</td>\n",
       "      <td>153</td>\n",
       "    </tr>\n",
       "    <tr>\n",
       "      <th>7</th>\n",
       "      <td>August</td>\n",
       "      <td>82</td>\n",
       "      <td>121</td>\n",
       "      <td>158</td>\n",
       "    </tr>\n",
       "    <tr>\n",
       "      <th>8</th>\n",
       "      <td>September</td>\n",
       "      <td>100</td>\n",
       "      <td>83</td>\n",
       "      <td>185</td>\n",
       "    </tr>\n",
       "    <tr>\n",
       "      <th>9</th>\n",
       "      <td>October</td>\n",
       "      <td>105</td>\n",
       "      <td>70</td>\n",
       "      <td>142</td>\n",
       "    </tr>\n",
       "    <tr>\n",
       "      <th>10</th>\n",
       "      <td>November</td>\n",
       "      <td>88</td>\n",
       "      <td>84</td>\n",
       "      <td>127</td>\n",
       "    </tr>\n",
       "    <tr>\n",
       "      <th>11</th>\n",
       "      <td>December</td>\n",
       "      <td>90</td>\n",
       "      <td>74</td>\n",
       "      <td>80</td>\n",
       "    </tr>\n",
       "  </tbody>\n",
       "</table>\n",
       "</div>"
      ],
      "text/plain": [
       "        Month  Geneva  Zurich  Lugano\n",
       "0     January      76      67      66\n",
       "1    February      68      68      52\n",
       "2       March      70      68      80\n",
       "3       April      72      78     156\n",
       "4         May      84      96     196\n",
       "5        June      92     115     164\n",
       "6        July      79     106     153\n",
       "7      August      82     121     158\n",
       "8   September     100      83     185\n",
       "9     October     105      70     142\n",
       "10   November      88      84     127\n",
       "11   December      90      74      80"
      ]
     },
     "execution_count": 20,
     "metadata": {},
     "output_type": "execute_result"
    }
   ],
   "source": [
    "df2"
   ]
  },
  {
   "cell_type": "markdown",
   "metadata": {
    "collapsed": true
   },
   "source": [
    "And we produce a barplot. Let's first produce it with \"lengthy\" code:"
   ]
  },
  {
   "cell_type": "code",
   "execution_count": 21,
   "metadata": {},
   "outputs": [
    {
     "data": {
      "text/html": [
       "<iframe id=\"igraph\" scrolling=\"no\" style=\"border:none;\" seamless=\"seamless\" src=\"https://plot.ly/~rrighart/163.embed\" height=\"525px\" width=\"100%\"></iframe>"
      ],
      "text/plain": [
       "<plotly.tools.PlotlyDisplay object>"
      ]
     },
     "execution_count": 21,
     "metadata": {},
     "output_type": "execute_result"
    }
   ],
   "source": [
    "trace0 =  go.Bar(\n",
    "          x=df2['Month'],\n",
    "          y=df2['Geneva'],\n",
    "          name='Geneva',\n",
    "          marker = {'color':'rgb(0,0,255)', 'line':{'color': 'rgb(0,0,255)', 'width':1.4}},\n",
    "          opacity=1\n",
    ")\n",
    "\n",
    "trace1 =  go.Bar(\n",
    "          x=df2['Month'],\n",
    "          y=df2['Zurich'],\n",
    "          name='Zurich',\n",
    "          marker =  {'color': 'rgb(204,0,0)', 'line': {'color': 'rgb(204,0,0)', 'width': 1.4}},\n",
    "          opacity=1\n",
    ")\n",
    "\n",
    "trace2 =  go.Bar(\n",
    "          x=df2['Month'],\n",
    "          y=df2['Lugano'],\n",
    "          name='Lugano',\n",
    "          marker = {'color': 'rgb(0,102,0)', 'line': {'color': 'rgb(0,102,0)', 'width': 1.4}},\n",
    "          opacity=1\n",
    ")\n",
    "\n",
    "data = [trace0, trace1, trace2]\n",
    "\n",
    "layout = {\n",
    "    'title' : 'Precipitation as a function of month',\n",
    "    'xaxis' : {'title' : 'time-course(months)'},\n",
    "    'yaxis' : {'title' : 'Rainfall (mm)'},\n",
    "    'showlegend': True}\n",
    "fig = go.Figure(data=data, layout=layout)\n",
    "py.iplot(fig, filename='Rainfallx', sharing='public')"
   ]
  },
  {
   "cell_type": "markdown",
   "metadata": {},
   "source": [
    "We will now shorten the code by looping through the different elements of the figures. The loop is going through the cities and colors:"
   ]
  },
  {
   "cell_type": "code",
   "execution_count": 22,
   "metadata": {},
   "outputs": [
    {
     "data": {
      "text/html": [
       "<iframe id=\"igraph\" scrolling=\"no\" style=\"border:none;\" seamless=\"seamless\" src=\"https://plot.ly/~rrighart/153.embed\" height=\"525px\" width=\"100%\"></iframe>"
      ],
      "text/plain": [
       "<plotly.tools.PlotlyDisplay object>"
      ]
     },
     "execution_count": 22,
     "metadata": {},
     "output_type": "execute_result"
    }
   ],
   "source": [
    "data = []\n",
    "tracex = []\n",
    "citynames = ['Geneva', 'Zurich', 'Lugano']\n",
    "cols=['rgb(0,0,255)', 'rgb(204,0,0)', 'rgb(0,102,0)']\n",
    "\n",
    "for i in range(0, len(citynames)):\n",
    "    tracex =  go.Bar(\n",
    "          x=df2['Month'],\n",
    "          y=df2[citynames[i]],\n",
    "          name=citynames[i],\n",
    "          marker={'color': cols[i], 'line': {'color': cols[i], 'width': 1.4}}\n",
    "    )\n",
    "    data.append(tracex)\n",
    "\n",
    "        \n",
    "layout = {\n",
    "    'title' : 'Precipitation as a function of month',\n",
    "    'xaxis' : {'title' : 'time-course (months)'},\n",
    "    'yaxis' : {'title' : 'Rainfall (mm)'},\n",
    "    'showlegend': True\n",
    "}\n",
    "\n",
    "fig = go.Figure(data=data, layout=layout)\n",
    "\n",
    "py.iplot(fig, filename='Rainfall', sharing='public')"
   ]
  },
  {
   "cell_type": "markdown",
   "metadata": {},
   "source": [
    "Next, it would be nice to get the temperature and rainfall data displayed together.\n",
    "It is possible to get the lines (temperature) and bars (rainfall) in a single plot, provided that different axes are used. The code below does this for a single city (more cities would clutter the image)."
   ]
  },
  {
   "cell_type": "code",
   "execution_count": 23,
   "metadata": {},
   "outputs": [
    {
     "data": {
      "text/html": [
       "<iframe id=\"igraph\" scrolling=\"no\" style=\"border:none;\" seamless=\"seamless\" src=\"https://plot.ly/~rrighart/157.embed\" height=\"525px\" width=\"100%\"></iframe>"
      ],
      "text/plain": [
       "<plotly.tools.PlotlyDisplay object>"
      ]
     },
     "execution_count": 23,
     "metadata": {},
     "output_type": "execute_result"
    }
   ],
   "source": [
    "data = []\n",
    "trace1 = []\n",
    "trace2 = []\n",
    "citynames = 'Geneva'\n",
    "cols = 'rgb(0,0,255)'\n",
    "\n",
    "trace1 =  go.Scatter(\n",
    "    x=df1['Month'],\n",
    "    y=df1[citynames],\n",
    "    name='Temperature',\n",
    "    marker={'color':cols, 'line':{'color':cols, 'width':1.4}})\n",
    "\n",
    "trace2 =  go.Bar(\n",
    "    x=df2['Month'],\n",
    "    y=df2[citynames],\n",
    "    name='Rainfall',\n",
    "    opacity=0.5,\n",
    "    marker={'color':cols, 'line':{'color':cols, 'width':1.4}},\n",
    "    yaxis='y2')        \n",
    "\n",
    "layout = go.Layout(\n",
    "    title = citynames,\n",
    "    xaxis = {'title':'time-course (months)'},\n",
    "    yaxis = {'title':'temperature (Celsius)'},\n",
    "    yaxis2 = {'title':'rainfall (mm)', 'overlaying':'y', 'side':'right'},\n",
    "    showlegend = True)\n",
    "\n",
    "data = [trace1, trace2]\n",
    "fig = go.Figure(data=data, layout=layout)\n",
    "\n",
    "py.iplot(fig, filename='Multichart', sharing='public')"
   ]
  },
  {
   "cell_type": "markdown",
   "metadata": {},
   "source": [
    "Would it be possible to get the data for the other cities as well, using shared axes?:"
   ]
  },
  {
   "cell_type": "code",
   "execution_count": 24,
   "metadata": {},
   "outputs": [
    {
     "name": "stdout",
     "output_type": "stream",
     "text": [
      "This is the format of your plot grid:\n",
      "[ (1,1) x1,y1 ]  [ (1,2) x2,y1 ]  [ (1,3) x3,y1 ]\n",
      "\n"
     ]
    },
    {
     "data": {
      "text/html": [
       "<iframe id=\"igraph\" scrolling=\"no\" style=\"border:none;\" seamless=\"seamless\" src=\"https://plot.ly/~rrighart/161.embed\" height=\"600px\" width=\"1000px\"></iframe>"
      ],
      "text/plain": [
       "<plotly.tools.PlotlyDisplay object>"
      ]
     },
     "execution_count": 24,
     "metadata": {},
     "output_type": "execute_result"
    }
   ],
   "source": [
    "data = []\n",
    "data1 = []\n",
    "data2 = []\n",
    "trace1 = []\n",
    "trace2 = []\n",
    "citynames = ['Geneva', 'Zurich', 'Lugano']\n",
    "cols=['rgb(0,0,255)', 'rgb(204,0,0)', 'rgb(0,102,0)']\n",
    "\n",
    "for i in range(0, len(citynames)):\n",
    "    tracex =  go.Scatter(\n",
    "          x=df1['Month'],\n",
    "          y=df1[citynames[i]],\n",
    "          marker=dict(color=cols[i], line=dict(color=cols[i], width=1.4)))\n",
    "    data1.append(tracex)\n",
    "    \n",
    "for i in range(0, len(citynames)):\n",
    "    tracey =  go.Bar(\n",
    "          x=df2['Month'],\n",
    "          y=df2[citynames[i]],\n",
    "          opacity=0.5,\n",
    "          marker=dict(color=cols[i], line=dict(color=cols[i], width=1.4)))\n",
    "    data2.append(tracey)\n",
    "\n",
    "fig = tools.make_subplots(rows=1, cols=3, shared_yaxes=True, subplot_titles=('Geneva', 'Zurich', 'Lugano'))\n",
    "\n",
    "dat = [data1, data2, data1, data2, data1, data2]\n",
    "\n",
    "for i in range(0,3):\n",
    "    fig.append_trace(data1[i], 1, i+1)\n",
    "    fig.append_trace(data2[i], 1, i+1)\n",
    "    \n",
    "fig['data'][1].update(yaxis='y3')\n",
    "fig['data'][2].update(yaxis='y2')\n",
    "fig['data'][3].update(yaxis='y4')\n",
    "fig['data'][4].update(yaxis='y2')\n",
    "fig['data'][5].update(yaxis='y6')\n",
    "\n",
    "fig['layout'].update(height=600, width=1000, title='Temperature and Rainfall', showlegend=False)\n",
    "fig['layout']['xaxis1'].update(title='Months', type='category',)\n",
    "fig['layout']['yaxis1'].update(range=[0, 25], title='Temperature',)\n",
    "fig['layout']['yaxis3']={'range':[0,200], 'title':'', 'overlaying':'y1', 'anchor':'x3', 'side':'right',}\n",
    "fig['layout']['xaxis2'].update(title='Months', type='category',)\n",
    "fig['layout']['yaxis2'].update(range=[0, 25], title='',)\n",
    "fig['layout']['yaxis4']={'range':[0,200], 'title':'', 'overlaying':'y2', 'anchor':'x3', 'side':'right'}\n",
    "fig['layout']['xaxis3'].update(title='Months', type='category',)\n",
    "fig['layout']['yaxis6'].update(range=[0, 25], title='',)\n",
    "fig['layout']['yaxis6']={'range':[0,200], 'title':'Rainfall (mm)', 'overlaying':'y2', 'anchor':'x3', 'side':'right'}\n",
    "\n",
    "py.iplot(fig, filename='Multichart3', sharing='public')"
   ]
  },
  {
   "cell_type": "markdown",
   "metadata": {
    "collapsed": true
   },
   "source": [
    "**Closing words**\n",
    "\n",
    "That should give you a good first impression of Plotly. If you want to share some ideas, do not hesitate to contact me: <font color=\"darkblue\">rrighart@googlemail.com</font> . Lucky coding!"
   ]
  },
  {
   "cell_type": "markdown",
   "metadata": {
    "collapsed": true
   },
   "source": [
    "REFERENCES\n",
    "\n",
    "1. Data were obtained from https://fr.wikipedia.org/wiki/Gen%C3%A8ve, https://fr.wikipedia.org/wiki/Zurich, https://de.wikipedia.org/wiki/Lugano\n",
    "\n",
    "2. Text annotations: https://plot.ly/python/text-and-annotations/\n",
    "\n",
    "3. Barplots: https://plot.ly/python/bar-charts/\n",
    "\n",
    "4. Multiple charts: https://plot.ly/python/graphing-multiple-chart-types/#line-chart-and-a-bar-chart ; using multiple axes: https://plot.ly/python/multiple-axes/ and https://plot.ly/~empet/14352/defining-subplots-with-two-y-axes-in-eac/\n"
   ]
  }
 ],
 "metadata": {
  "kernelspec": {
   "display_name": "Python 2",
   "language": "python",
   "name": "python2"
  },
  "language_info": {
   "codemirror_mode": {
    "name": "ipython",
    "version": 2
   },
   "file_extension": ".py",
   "mimetype": "text/x-python",
   "name": "python",
   "nbconvert_exporter": "python",
   "pygments_lexer": "ipython2",
   "version": "2.7.12"
  }
 },
 "nbformat": 4,
 "nbformat_minor": 2
}
